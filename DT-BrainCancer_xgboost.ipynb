{
 "cells": [
  {
   "cell_type": "code",
   "execution_count": 2,
   "id": "initial_id",
   "metadata": {
    "ExecuteTime": {
     "end_time": "2024-04-13T20:30:46.628036Z",
     "start_time": "2024-04-13T20:30:46.620425Z"
    }
   },
   "outputs": [
    {
     "data": {
      "text/html": [
       "<div>\n",
       "<style scoped>\n",
       "    .dataframe tbody tr th:only-of-type {\n",
       "        vertical-align: middle;\n",
       "    }\n",
       "\n",
       "    .dataframe tbody tr th {\n",
       "        vertical-align: top;\n",
       "    }\n",
       "\n",
       "    .dataframe thead th {\n",
       "        text-align: right;\n",
       "    }\n",
       "</style>\n",
       "<table border=\"1\" class=\"dataframe\">\n",
       "  <thead>\n",
       "    <tr style=\"text-align: right;\">\n",
       "      <th></th>\n",
       "      <th>Unnamed: 0</th>\n",
       "      <th>sex</th>\n",
       "      <th>diagnosis</th>\n",
       "      <th>loc</th>\n",
       "      <th>ki</th>\n",
       "      <th>gtv</th>\n",
       "      <th>status</th>\n",
       "    </tr>\n",
       "  </thead>\n",
       "  <tbody>\n",
       "    <tr>\n",
       "      <th>0</th>\n",
       "      <td>1</td>\n",
       "      <td>Female</td>\n",
       "      <td>Meningioma</td>\n",
       "      <td>Infratentorial</td>\n",
       "      <td>90</td>\n",
       "      <td>6.11</td>\n",
       "      <td>0</td>\n",
       "    </tr>\n",
       "    <tr>\n",
       "      <th>1</th>\n",
       "      <td>2</td>\n",
       "      <td>Male</td>\n",
       "      <td>HG glioma</td>\n",
       "      <td>Supratentorial</td>\n",
       "      <td>90</td>\n",
       "      <td>19.35</td>\n",
       "      <td>1</td>\n",
       "    </tr>\n",
       "    <tr>\n",
       "      <th>2</th>\n",
       "      <td>3</td>\n",
       "      <td>Female</td>\n",
       "      <td>Meningioma</td>\n",
       "      <td>Infratentorial</td>\n",
       "      <td>70</td>\n",
       "      <td>7.95</td>\n",
       "      <td>0</td>\n",
       "    </tr>\n",
       "    <tr>\n",
       "      <th>3</th>\n",
       "      <td>4</td>\n",
       "      <td>Female</td>\n",
       "      <td>LG glioma</td>\n",
       "      <td>Supratentorial</td>\n",
       "      <td>80</td>\n",
       "      <td>7.61</td>\n",
       "      <td>1</td>\n",
       "    </tr>\n",
       "    <tr>\n",
       "      <th>4</th>\n",
       "      <td>5</td>\n",
       "      <td>Male</td>\n",
       "      <td>HG glioma</td>\n",
       "      <td>Supratentorial</td>\n",
       "      <td>90</td>\n",
       "      <td>5.06</td>\n",
       "      <td>1</td>\n",
       "    </tr>\n",
       "    <tr>\n",
       "      <th>5</th>\n",
       "      <td>6</td>\n",
       "      <td>Female</td>\n",
       "      <td>Meningioma</td>\n",
       "      <td>Supratentorial</td>\n",
       "      <td>80</td>\n",
       "      <td>4.82</td>\n",
       "      <td>0</td>\n",
       "    </tr>\n",
       "    <tr>\n",
       "      <th>6</th>\n",
       "      <td>7</td>\n",
       "      <td>Male</td>\n",
       "      <td>Meningioma</td>\n",
       "      <td>Supratentorial</td>\n",
       "      <td>80</td>\n",
       "      <td>3.19</td>\n",
       "      <td>0</td>\n",
       "    </tr>\n",
       "    <tr>\n",
       "      <th>7</th>\n",
       "      <td>8</td>\n",
       "      <td>Male</td>\n",
       "      <td>LG glioma</td>\n",
       "      <td>Supratentorial</td>\n",
       "      <td>80</td>\n",
       "      <td>12.37</td>\n",
       "      <td>0</td>\n",
       "    </tr>\n",
       "    <tr>\n",
       "      <th>8</th>\n",
       "      <td>9</td>\n",
       "      <td>Female</td>\n",
       "      <td>Meningioma</td>\n",
       "      <td>Supratentorial</td>\n",
       "      <td>70</td>\n",
       "      <td>12.16</td>\n",
       "      <td>0</td>\n",
       "    </tr>\n",
       "    <tr>\n",
       "      <th>9</th>\n",
       "      <td>10</td>\n",
       "      <td>Male</td>\n",
       "      <td>HG glioma</td>\n",
       "      <td>Supratentorial</td>\n",
       "      <td>100</td>\n",
       "      <td>2.53</td>\n",
       "      <td>0</td>\n",
       "    </tr>\n",
       "  </tbody>\n",
       "</table>\n",
       "</div>"
      ],
      "text/plain": [
       "   Unnamed: 0     sex   diagnosis             loc   ki    gtv  status\n",
       "0           1  Female  Meningioma  Infratentorial   90   6.11       0\n",
       "1           2    Male   HG glioma  Supratentorial   90  19.35       1\n",
       "2           3  Female  Meningioma  Infratentorial   70   7.95       0\n",
       "3           4  Female   LG glioma  Supratentorial   80   7.61       1\n",
       "4           5    Male   HG glioma  Supratentorial   90   5.06       1\n",
       "5           6  Female  Meningioma  Supratentorial   80   4.82       0\n",
       "6           7    Male  Meningioma  Supratentorial   80   3.19       0\n",
       "7           8    Male   LG glioma  Supratentorial   80  12.37       0\n",
       "8           9  Female  Meningioma  Supratentorial   70  12.16       0\n",
       "9          10    Male   HG glioma  Supratentorial  100   2.53       0"
      ]
     },
     "execution_count": 2,
     "metadata": {},
     "output_type": "execute_result"
    }
   ],
   "source": [
    "import seaborn as sns\n",
    "\n",
    "import pandas as pd\n",
    "\n",
    "import numpy as np\n",
    "\n",
    "import matplotlib.pyplot as plt\n",
    "\n",
    "import warnings\n",
    "\n",
    "warnings.filterwarnings(\"ignore\")\n",
    "\n",
    "df = pd.read_csv(\"G:\\\\Assignment\\\\DT-BrainCancer.csv\")\n",
    "df.head(10)"
   ]
  },
  {
   "cell_type": "code",
   "execution_count": 3,
   "id": "192ba899034d0969",
   "metadata": {
    "ExecuteTime": {
     "end_time": "2024-04-13T20:30:46.896728Z",
     "start_time": "2024-04-13T20:30:46.894107Z"
    }
   },
   "outputs": [
    {
     "data": {
      "text/plain": [
       "(88, 7)"
      ]
     },
     "execution_count": 3,
     "metadata": {},
     "output_type": "execute_result"
    }
   ],
   "source": [
    "df.shape"
   ]
  },
  {
   "cell_type": "code",
   "execution_count": 4,
   "id": "7942049aa363388a",
   "metadata": {
    "ExecuteTime": {
     "end_time": "2024-04-13T20:30:47.173449Z",
     "start_time": "2024-04-13T20:30:47.164463Z"
    }
   },
   "outputs": [
    {
     "data": {
      "text/html": [
       "<div>\n",
       "<style scoped>\n",
       "    .dataframe tbody tr th:only-of-type {\n",
       "        vertical-align: middle;\n",
       "    }\n",
       "\n",
       "    .dataframe tbody tr th {\n",
       "        vertical-align: top;\n",
       "    }\n",
       "\n",
       "    .dataframe thead th {\n",
       "        text-align: right;\n",
       "    }\n",
       "</style>\n",
       "<table border=\"1\" class=\"dataframe\">\n",
       "  <thead>\n",
       "    <tr style=\"text-align: right;\">\n",
       "      <th></th>\n",
       "      <th>Unnamed: 0</th>\n",
       "      <th>ki</th>\n",
       "      <th>gtv</th>\n",
       "      <th>status</th>\n",
       "    </tr>\n",
       "  </thead>\n",
       "  <tbody>\n",
       "    <tr>\n",
       "      <th>count</th>\n",
       "      <td>88.000000</td>\n",
       "      <td>88.000000</td>\n",
       "      <td>88.000000</td>\n",
       "      <td>88.000000</td>\n",
       "    </tr>\n",
       "    <tr>\n",
       "      <th>mean</th>\n",
       "      <td>44.500000</td>\n",
       "      <td>81.022727</td>\n",
       "      <td>8.660795</td>\n",
       "      <td>0.397727</td>\n",
       "    </tr>\n",
       "    <tr>\n",
       "      <th>std</th>\n",
       "      <td>25.547342</td>\n",
       "      <td>10.508866</td>\n",
       "      <td>8.657576</td>\n",
       "      <td>0.492233</td>\n",
       "    </tr>\n",
       "    <tr>\n",
       "      <th>min</th>\n",
       "      <td>1.000000</td>\n",
       "      <td>40.000000</td>\n",
       "      <td>0.010000</td>\n",
       "      <td>0.000000</td>\n",
       "    </tr>\n",
       "    <tr>\n",
       "      <th>25%</th>\n",
       "      <td>22.750000</td>\n",
       "      <td>80.000000</td>\n",
       "      <td>2.500000</td>\n",
       "      <td>0.000000</td>\n",
       "    </tr>\n",
       "    <tr>\n",
       "      <th>50%</th>\n",
       "      <td>44.500000</td>\n",
       "      <td>80.000000</td>\n",
       "      <td>6.510000</td>\n",
       "      <td>0.000000</td>\n",
       "    </tr>\n",
       "    <tr>\n",
       "      <th>75%</th>\n",
       "      <td>66.250000</td>\n",
       "      <td>90.000000</td>\n",
       "      <td>12.100000</td>\n",
       "      <td>1.000000</td>\n",
       "    </tr>\n",
       "    <tr>\n",
       "      <th>max</th>\n",
       "      <td>88.000000</td>\n",
       "      <td>100.000000</td>\n",
       "      <td>34.640000</td>\n",
       "      <td>1.000000</td>\n",
       "    </tr>\n",
       "  </tbody>\n",
       "</table>\n",
       "</div>"
      ],
      "text/plain": [
       "       Unnamed: 0          ki        gtv     status\n",
       "count   88.000000   88.000000  88.000000  88.000000\n",
       "mean    44.500000   81.022727   8.660795   0.397727\n",
       "std     25.547342   10.508866   8.657576   0.492233\n",
       "min      1.000000   40.000000   0.010000   0.000000\n",
       "25%     22.750000   80.000000   2.500000   0.000000\n",
       "50%     44.500000   80.000000   6.510000   0.000000\n",
       "75%     66.250000   90.000000  12.100000   1.000000\n",
       "max     88.000000  100.000000  34.640000   1.000000"
      ]
     },
     "execution_count": 4,
     "metadata": {},
     "output_type": "execute_result"
    }
   ],
   "source": [
    "df.describe()"
   ]
  },
  {
   "cell_type": "code",
   "execution_count": 5,
   "id": "a526b3a323ab4f2d",
   "metadata": {
    "ExecuteTime": {
     "end_time": "2024-04-13T20:30:47.377632Z",
     "start_time": "2024-04-13T20:30:47.372367Z"
    }
   },
   "outputs": [
    {
     "data": {
      "text/plain": [
       "Unnamed: 0    0\n",
       "sex           0\n",
       "diagnosis     1\n",
       "loc           0\n",
       "ki            0\n",
       "gtv           0\n",
       "status        0\n",
       "dtype: int64"
      ]
     },
     "execution_count": 5,
     "metadata": {},
     "output_type": "execute_result"
    }
   ],
   "source": [
    "df.isnull().sum()"
   ]
  },
  {
   "cell_type": "code",
   "execution_count": 6,
   "id": "337325280a796f9b",
   "metadata": {
    "ExecuteTime": {
     "end_time": "2024-04-13T20:30:47.553211Z",
     "start_time": "2024-04-13T20:30:47.549203Z"
    }
   },
   "outputs": [],
   "source": [
    "df.dropna(subset=['diagnosis'], inplace=True)"
   ]
  },
  {
   "cell_type": "code",
   "execution_count": 7,
   "id": "4dd411f4dae6bf24",
   "metadata": {
    "ExecuteTime": {
     "end_time": "2024-04-13T20:30:47.701699Z",
     "start_time": "2024-04-13T20:30:47.697195Z"
    }
   },
   "outputs": [
    {
     "data": {
      "text/plain": [
       "Unnamed: 0    0\n",
       "sex           0\n",
       "diagnosis     0\n",
       "loc           0\n",
       "ki            0\n",
       "gtv           0\n",
       "status        0\n",
       "dtype: int64"
      ]
     },
     "execution_count": 7,
     "metadata": {},
     "output_type": "execute_result"
    }
   ],
   "source": [
    "df.isnull().sum()"
   ]
  },
  {
   "cell_type": "code",
   "execution_count": 8,
   "id": "e92d787b4b31a9ee",
   "metadata": {
    "ExecuteTime": {
     "end_time": "2024-04-13T20:30:47.858346Z",
     "start_time": "2024-04-13T20:30:47.853297Z"
    }
   },
   "outputs": [
    {
     "name": "stdout",
     "output_type": "stream",
     "text": [
      "<class 'pandas.core.frame.DataFrame'>\n",
      "Index: 87 entries, 0 to 87\n",
      "Data columns (total 7 columns):\n",
      " #   Column      Non-Null Count  Dtype  \n",
      "---  ------      --------------  -----  \n",
      " 0   Unnamed: 0  87 non-null     int64  \n",
      " 1   sex         87 non-null     object \n",
      " 2   diagnosis   87 non-null     object \n",
      " 3   loc         87 non-null     object \n",
      " 4   ki          87 non-null     int64  \n",
      " 5   gtv         87 non-null     float64\n",
      " 6   status      87 non-null     int64  \n",
      "dtypes: float64(1), int64(3), object(3)\n",
      "memory usage: 5.4+ KB\n"
     ]
    }
   ],
   "source": [
    "df.info()"
   ]
  },
  {
   "cell_type": "code",
   "execution_count": 9,
   "id": "6264b9a1f2919484",
   "metadata": {
    "ExecuteTime": {
     "end_time": "2024-04-13T20:33:10.127356Z",
     "start_time": "2024-04-13T20:33:10.120631Z"
    }
   },
   "outputs": [],
   "source": [
    "from sklearn.preprocessing import OrdinalEncoder\n",
    "from sklearn.model_selection import train_test_split\n",
    "X, y = df.drop(\"status\", axis=1), df[['status']]\n",
    "\n",
    "# Encode y to numeric\n",
    "y_encoded = OrdinalEncoder().fit_transform(y)\n",
    "\n",
    "# Extract text features\n",
    "cats = X.select_dtypes(exclude=np.number).columns.tolist()\n",
    "\n",
    "# Convert to pd.Categorical\n",
    "for col in cats:\n",
    "   X[col] = X[col].astype('category')"
   ]
  },
  {
   "cell_type": "code",
   "execution_count": 10,
   "id": "ad1b6b2e3c8987c4",
   "metadata": {
    "ExecuteTime": {
     "end_time": "2024-04-13T20:33:10.789527Z",
     "start_time": "2024-04-13T20:33:10.786023Z"
    }
   },
   "outputs": [
    {
     "data": {
      "text/plain": [
       "Unnamed: 0       int64\n",
       "sex           category\n",
       "diagnosis     category\n",
       "loc           category\n",
       "ki               int64\n",
       "gtv            float64\n",
       "dtype: object"
      ]
     },
     "execution_count": 10,
     "metadata": {},
     "output_type": "execute_result"
    }
   ],
   "source": [
    "X.dtypes"
   ]
  },
  {
   "cell_type": "code",
   "execution_count": 34,
   "id": "13c18dd1b847d694",
   "metadata": {
    "ExecuteTime": {
     "end_time": "2024-04-13T20:33:11.653011Z",
     "start_time": "2024-04-13T20:33:11.647735Z"
    }
   },
   "outputs": [],
   "source": [
    "# Split the data into 70% train, 15% validation, and 15% test sets\n",
    "X_train, X_temp, y_train, y_temp = train_test_split(X, y, test_size=0.3, random_state=1)\n",
    "X_val, X_test, y_valid, y_test = train_test_split(X_temp, y_temp, test_size=0.5, random_state=1)"
   ]
  },
  {
   "cell_type": "code",
   "execution_count": 35,
   "id": "5c79cbce5fd23f83",
   "metadata": {
    "ExecuteTime": {
     "end_time": "2024-04-13T20:33:12.548680Z",
     "start_time": "2024-04-13T20:33:12.545169Z"
    }
   },
   "outputs": [
    {
     "data": {
      "text/plain": [
       "((60, 6), (13, 6), (14, 6))"
      ]
     },
     "execution_count": 35,
     "metadata": {},
     "output_type": "execute_result"
    }
   ],
   "source": [
    "X_train.shape, X_val.shape, X_test.shape"
   ]
  },
  {
   "cell_type": "code",
   "execution_count": 36,
   "id": "e5a7e9187441d315",
   "metadata": {
    "ExecuteTime": {
     "end_time": "2024-04-13T20:33:12.974035Z",
     "start_time": "2024-04-13T20:33:12.946308Z"
    }
   },
   "outputs": [],
   "source": [
    "import xgboost as xgb\n",
    "\n",
    "# Create regression matrices\n",
    "dtrain_clf = xgb.DMatrix(X_train, y_train, enable_categorical=True)\n",
    "dtest_clf = xgb.DMatrix(X_test, y_test, enable_categorical=True)\n",
    "dval_clf = xgb.DMatrix(X_val, y_valid, enable_categorical=True)"
   ]
  },
  {
   "cell_type": "code",
   "execution_count": 37,
   "id": "eef44e687d61b147",
   "metadata": {
    "ExecuteTime": {
     "end_time": "2024-04-13T20:37:40.434839Z",
     "start_time": "2024-04-13T20:34:57.369854Z"
    }
   },
   "outputs": [
    {
     "name": "stdout",
     "output_type": "stream",
     "text": [
      "Best Hyperparameters: {'gamma': 0, 'learning_rate': 0.001, 'max_depth': 3, 'min_child_weight': 3}\n"
     ]
    }
   ],
   "source": [
    "# Define hyperparameters to tune\n",
    "hyperparameters_to_tune = {\n",
    "    \"max_depth\": [3, 5, 7],\n",
    "    \"learning_rate\": [0.001, 0.01, 0.1, 0.3],\n",
    "    \"min_child_weight\": [1, 3, 5, 7],\n",
    "    \"gamma\": [0, 0.1, 0.2, 0,3],\n",
    "}\n",
    "\n",
    "# Use Grid Search or Random Search to find optimal hyperparameters\n",
    "from sklearn.model_selection import GridSearchCV\n",
    "\n",
    "xgb_model = xgb.XGBClassifier(objective=\"binary:logistic\", tree_method=\"gpu_hist\", enable_categorical = True)\n",
    "\n",
    "grid_search = GridSearchCV(estimator=xgb_model, param_grid=hyperparameters_to_tune, cv=5, scoring=\"accuracy\")\n",
    "grid_search.fit(X_val, y_valid)\n",
    "\n",
    "# Get the best parameters\n",
    "best_params = grid_search.best_params_\n",
    "print(\"Best Hyperparameters:\", best_params)\n"
   ]
  },
  {
   "cell_type": "code",
   "execution_count": 38,
   "id": "625fa72ffff895e6",
   "metadata": {
    "ExecuteTime": {
     "end_time": "2024-04-13T20:38:02.318261Z",
     "start_time": "2024-04-13T20:38:01.744456Z"
    }
   },
   "outputs": [
    {
     "data": {
      "text/plain": [
       "array([0, 0, 0, 0, 0, 0, 0, 0, 0, 0, 0, 0, 0, 0])"
      ]
     },
     "execution_count": 38,
     "metadata": {},
     "output_type": "execute_result"
    }
   ],
   "source": [
    "# Train the model with the best parameters\n",
    "best_model = xgb.XGBClassifier(objective=\"binary:logistic\", tree_method=\"gpu_hist\", **best_params, enable_categorical = True)\n",
    "best_model.fit(X_train, y_train)\n",
    "\n",
    "# Predict on test set\n",
    "y_pred = best_model.predict(X_test)\n",
    "\n",
    "y_pred\n",
    "\n"
   ]
  },
  {
   "cell_type": "code",
   "execution_count": 39,
   "id": "20ada2e122b762f4",
   "metadata": {},
   "outputs": [
    {
     "name": "stdout",
     "output_type": "stream",
     "text": [
      "Accuracy: 0.8571428571428571\n"
     ]
    }
   ],
   "source": [
    "accuracy = np.mean(y_pred == y_test.values)\n",
    "print(\"Accuracy:\", accuracy)\n"
   ]
  },
  {
   "cell_type": "code",
   "execution_count": 49,
   "id": "6abef641-694e-461a-80da-28edceb84e4a",
   "metadata": {},
   "outputs": [],
   "source": [
    "y_test_values_reshaped = y_test.values.flatten()\n"
   ]
  },
  {
   "cell_type": "code",
   "execution_count": 50,
   "id": "8a98cfbb-aaf7-43df-8aa1-424ce43680c3",
   "metadata": {},
   "outputs": [
    {
     "name": "stdout",
     "output_type": "stream",
     "text": [
      "Confusion Matrix:\n",
      "[[12.  0.]\n",
      " [ 2.  0.]]\n",
      "Precision: [0.85714286        nan]\n",
      "Recall: [1. 0.]\n",
      "F-score: [0.92307692        nan]\n",
      "Precision-Recall Curve Points: [(0.14285714285714285, 1.0), (nan, 0.0), (nan, 0.0), (nan, 0.0), (nan, 0.0), (nan, 0.0), (nan, 0.0), (nan, 0.0), (nan, 0.0), (nan, 0.0), (nan, 0.0), (nan, 0.0), (nan, 0.0), (nan, 0.0), (nan, 0.0), (nan, 0.0), (nan, 0.0), (nan, 0.0), (nan, 0.0), (nan, 0.0), (nan, 0.0), (nan, 0.0), (nan, 0.0), (nan, 0.0), (nan, 0.0), (nan, 0.0), (nan, 0.0), (nan, 0.0), (nan, 0.0), (nan, 0.0), (nan, 0.0), (nan, 0.0), (nan, 0.0), (nan, 0.0), (nan, 0.0), (nan, 0.0), (nan, 0.0), (nan, 0.0), (nan, 0.0), (nan, 0.0), (nan, 0.0), (nan, 0.0), (nan, 0.0), (nan, 0.0), (nan, 0.0), (nan, 0.0), (nan, 0.0), (nan, 0.0), (nan, 0.0), (nan, 0.0), (nan, 0.0), (nan, 0.0), (nan, 0.0), (nan, 0.0), (nan, 0.0), (nan, 0.0), (nan, 0.0), (nan, 0.0), (nan, 0.0), (nan, 0.0), (nan, 0.0), (nan, 0.0), (nan, 0.0), (nan, 0.0), (nan, 0.0), (nan, 0.0), (nan, 0.0), (nan, 0.0), (nan, 0.0), (nan, 0.0), (nan, 0.0), (nan, 0.0), (nan, 0.0), (nan, 0.0), (nan, 0.0), (nan, 0.0), (nan, 0.0), (nan, 0.0), (nan, 0.0), (nan, 0.0), (nan, 0.0), (nan, 0.0), (nan, 0.0), (nan, 0.0), (nan, 0.0), (nan, 0.0), (nan, 0.0), (nan, 0.0), (nan, 0.0), (nan, 0.0), (nan, 0.0), (nan, 0.0), (nan, 0.0), (nan, 0.0), (nan, 0.0), (nan, 0.0), (nan, 0.0), (nan, 0.0), (nan, 0.0), (nan, 0.0)]\n"
     ]
    }
   ],
   "source": [
    "confusion_matrix = np.zeros((len(np.unique(y_test.values)), len(np.unique(y_test.values))))\n",
    "for i in range(len(y_test)):\n",
    "    confusion_matrix[y_test.values[i], y_pred[i]] += 1\n",
    "print(\"Confusion Matrix:\")\n",
    "print(confusion_matrix)\n",
    "\n",
    "precision = np.zeros(len(np.unique(y_test_values_reshaped)))\n",
    "recall = np.zeros(len(np.unique(y_test_values_reshaped)))\n",
    "f_score = np.zeros(len(np.unique(y_test_values_reshaped)))\n",
    "for i in range(len(np.unique(y_test_values_reshaped))):\n",
    "    true_positive = confusion_matrix[i, i]\n",
    "    false_positive = np.sum(confusion_matrix[:, i]) - true_positive\n",
    "    false_negative = np.sum(confusion_matrix[i, :]) - true_positive\n",
    "    precision[i] = true_positive / (true_positive + false_positive)\n",
    "    recall[i] = true_positive / (true_positive + false_negative)\n",
    "    f_score[i] = 2 * precision[i] * recall[i] / (precision[i] + recall[i])\n",
    "print(\"Precision:\", precision)\n",
    "print(\"Recall:\", recall)\n",
    "print(\"F-score:\", f_score)\n",
    "\n",
    "precision_recall_curve = []\n",
    "for threshold in np.linspace(0, 1, 100):\n",
    "    y_pred_thresh = y_pred >= threshold\n",
    "    true_positive = np.sum(y_pred_thresh[y_test_values_reshaped == 1])\n",
    "    false_positive = np.sum(y_pred_thresh[y_test_values_reshaped == 0])\n",
    "    false_negative = np.sum(~y_pred_thresh[y_test_values_reshaped == 1])\n",
    "    precision = true_positive / (true_positive + false_positive)\n",
    "    recall = true_positive / (true_positive + false_negative)\n",
    "    precision_recall_curve.append((precision, recall))\n",
    "print(\"Precision-Recall Curve Points:\", precision_recall_curve)\n",
    "\n",
    "\n"
   ]
  },
  {
   "cell_type": "code",
   "execution_count": 48,
   "id": "9f4994b3-7970-4643-a0aa-f4daa4d10c05",
   "metadata": {},
   "outputs": [
    {
     "name": "stdout",
     "output_type": "stream",
     "text": [
      "Shape of y_pred_thresh: (14,)\n",
      "Shape of y_test.values: (14, 1)\n"
     ]
    }
   ],
   "source": [
    "print(\"Shape of y_pred_thresh:\", y_pred_thresh.shape)\n",
    "print(\"Shape of y_test.values:\", y_test.values.shape)\n"
   ]
  },
  {
   "cell_type": "code",
   "execution_count": 51,
   "id": "1134e569-2687-4d8d-8d97-7b67635975ea",
   "metadata": {},
   "outputs": [
    {
     "name": "stdout",
     "output_type": "stream",
     "text": [
      "Precision: [0.85714286 0.        ]\n",
      "Recall: [1. 0.]\n",
      "F-score: [0.92307692 0.        ]\n",
      "Precision-Recall Curve Points: [(0.14285714285714285, 1.0), (nan, 0.0), (nan, 0.0), (nan, 0.0), (nan, 0.0), (nan, 0.0), (nan, 0.0), (nan, 0.0), (nan, 0.0), (nan, 0.0), (nan, 0.0), (nan, 0.0), (nan, 0.0), (nan, 0.0), (nan, 0.0), (nan, 0.0), (nan, 0.0), (nan, 0.0), (nan, 0.0), (nan, 0.0), (nan, 0.0), (nan, 0.0), (nan, 0.0), (nan, 0.0), (nan, 0.0), (nan, 0.0), (nan, 0.0), (nan, 0.0), (nan, 0.0), (nan, 0.0), (nan, 0.0), (nan, 0.0), (nan, 0.0), (nan, 0.0), (nan, 0.0), (nan, 0.0), (nan, 0.0), (nan, 0.0), (nan, 0.0), (nan, 0.0), (nan, 0.0), (nan, 0.0), (nan, 0.0), (nan, 0.0), (nan, 0.0), (nan, 0.0), (nan, 0.0), (nan, 0.0), (nan, 0.0), (nan, 0.0), (nan, 0.0), (nan, 0.0), (nan, 0.0), (nan, 0.0), (nan, 0.0), (nan, 0.0), (nan, 0.0), (nan, 0.0), (nan, 0.0), (nan, 0.0), (nan, 0.0), (nan, 0.0), (nan, 0.0), (nan, 0.0), (nan, 0.0), (nan, 0.0), (nan, 0.0), (nan, 0.0), (nan, 0.0), (nan, 0.0), (nan, 0.0), (nan, 0.0), (nan, 0.0), (nan, 0.0), (nan, 0.0), (nan, 0.0), (nan, 0.0), (nan, 0.0), (nan, 0.0), (nan, 0.0), (nan, 0.0), (nan, 0.0), (nan, 0.0), (nan, 0.0), (nan, 0.0), (nan, 0.0), (nan, 0.0), (nan, 0.0), (nan, 0.0), (nan, 0.0), (nan, 0.0), (nan, 0.0), (nan, 0.0), (nan, 0.0), (nan, 0.0), (nan, 0.0), (nan, 0.0), (nan, 0.0), (nan, 0.0), (nan, 0.0)]\n"
     ]
    }
   ],
   "source": [
    "# Precision, Recall, F-score\n",
    "precision = np.zeros(len(np.unique(y_test)))\n",
    "recall = np.zeros(len(np.unique(y_test)))\n",
    "f_score = np.zeros(len(np.unique(y_test)))\n",
    "for i in range(len(np.unique(y_test))):\n",
    "    true_positive = confusion_matrix[i, i]\n",
    "    false_positive = np.sum(confusion_matrix[:, i]) - true_positive\n",
    "    false_negative = np.sum(confusion_matrix[i, :]) - true_positive\n",
    "    if true_positive + false_positive == 0:\n",
    "        precision[i] = 0\n",
    "    else:\n",
    "        precision[i] = true_positive / (true_positive + false_positive)\n",
    "    if true_positive + false_negative == 0:\n",
    "        recall[i] = 0\n",
    "    else:\n",
    "        recall[i] = true_positive / (true_positive + false_negative)\n",
    "    if precision[i] + recall[i] == 0:\n",
    "        f_score[i] = 0\n",
    "    else:\n",
    "        f_score[i] = 2 * precision[i] * recall[i] / (precision[i] + recall[i])\n",
    "\n",
    "print(\"Precision:\", precision)\n",
    "print(\"Recall:\", recall)\n",
    "print(\"F-score:\", f_score)\n",
    "\n",
    "# Precision-Recall Curve Points\n",
    "precision_recall_curve = []\n",
    "for threshold in np.linspace(0, 1, 100):\n",
    "    y_pred_thresh = y_pred >= threshold\n",
    "    true_positive = np.sum(y_pred_thresh[y_test.values.flatten() == 1])\n",
    "    if np.sum(y_test.values.flatten() == 1) == 0:\n",
    "        precision = 0\n",
    "    else:\n",
    "        precision = true_positive / np.sum(y_pred_thresh)\n",
    "    recall = true_positive / np.sum(y_test.values.flatten() == 1)\n",
    "    precision_recall_curve.append((precision, recall))\n",
    "\n",
    "print(\"Precision-Recall Curve Points:\", precision_recall_curve)\n"
   ]
  },
  {
   "cell_type": "code",
   "execution_count": 92,
   "id": "4a1eea08-cf65-43f3-810b-f4245bebc6b1",
   "metadata": {},
   "outputs": [
    {
     "name": "stdout",
     "output_type": "stream",
     "text": [
      "Precision: [0.85714286 0.        ]\n",
      "Recall: [1. 0.]\n",
      "F-score: [0.92307692 0.        ]\n",
      "Precision-Recall Curve Points: [(0.14285714285714285, 1.0), (0, 0.0), (0, 0.0), (0, 0.0), (0, 0.0), (0, 0.0), (0, 0.0), (0, 0.0), (0, 0.0), (0, 0.0), (0, 0.0), (0, 0.0), (0, 0.0), (0, 0.0), (0, 0.0), (0, 0.0), (0, 0.0), (0, 0.0), (0, 0.0), (0, 0.0), (0, 0.0), (0, 0.0), (0, 0.0), (0, 0.0), (0, 0.0), (0, 0.0), (0, 0.0), (0, 0.0), (0, 0.0), (0, 0.0), (0, 0.0), (0, 0.0), (0, 0.0), (0, 0.0), (0, 0.0), (0, 0.0), (0, 0.0), (0, 0.0), (0, 0.0), (0, 0.0), (0, 0.0), (0, 0.0), (0, 0.0), (0, 0.0), (0, 0.0), (0, 0.0), (0, 0.0), (0, 0.0), (0, 0.0), (0, 0.0), (0, 0.0), (0, 0.0), (0, 0.0), (0, 0.0), (0, 0.0), (0, 0.0), (0, 0.0), (0, 0.0), (0, 0.0), (0, 0.0), (0, 0.0), (0, 0.0), (0, 0.0), (0, 0.0), (0, 0.0), (0, 0.0), (0, 0.0), (0, 0.0), (0, 0.0), (0, 0.0), (0, 0.0), (0, 0.0), (0, 0.0), (0, 0.0), (0, 0.0), (0, 0.0), (0, 0.0), (0, 0.0), (0, 0.0), (0, 0.0), (0, 0.0), (0, 0.0), (0, 0.0), (0, 0.0), (0, 0.0), (0, 0.0), (0, 0.0), (0, 0.0), (0, 0.0), (0, 0.0), (0, 0.0), (0, 0.0), (0, 0.0), (0, 0.0), (0, 0.0), (0, 0.0), (0, 0.0), (0, 0.0), (0, 0.0), (0, 0.0)]\n"
     ]
    },
    {
     "data": {
      "image/png": "[encoded data removed]",
      "text/plain": [
       "<Figure size 800x600 with 1 Axes>"
      ]
     },
     "metadata": {},
     "output_type": "display_data"
    }
   ],
   "source": [
    "# Precision, Recall, F-score\n",
    "precision = np.zeros(len(np.unique(y_test)))\n",
    "recall = np.zeros(len(np.unique(y_test)))\n",
    "f_score = np.zeros(len(np.unique(y_test)))\n",
    "for i in range(len(np.unique(y_test))):\n",
    "    true_positive = confusion_matrix[i, i]\n",
    "    false_positive = np.sum(confusion_matrix[:, i]) - true_positive\n",
    "    false_negative = np.sum(confusion_matrix[i, :]) - true_positive\n",
    "    \n",
    "    if true_positive + false_positive == 0:\n",
    "        precision[i] = 0\n",
    "    else:\n",
    "        precision[i] = true_positive / (true_positive + false_positive)\n",
    "        \n",
    "    if true_positive + false_negative == 0:\n",
    "        recall[i] = 0\n",
    "    else:\n",
    "        recall[i] = true_positive / (true_positive + false_negative)\n",
    "        \n",
    "    if precision[i] + recall[i] == 0:\n",
    "        f_score[i] = 0\n",
    "    else:\n",
    "        f_score[i] = 2 * precision[i] * recall[i] / (precision[i] + recall[i])\n",
    "\n",
    "print(\"Precision:\", precision)\n",
    "print(\"Recall:\", recall)\n",
    "print(\"F-score:\", f_score)\n",
    "\n",
    "# Precision-Recall Curve Points\n",
    "precision_recall_curve = []\n",
    "for threshold in np.linspace(0, 1, 100):\n",
    "    y_pred_thresh = y_pred >= threshold\n",
    "    true_positive = np.sum(y_pred_thresh[y_test.values.flatten() == 1])\n",
    "    if np.sum(y_pred_thresh) == 0:\n",
    "        precision = 0\n",
    "    else:\n",
    "        precision = true_positive / np.sum(y_pred_thresh)\n",
    "        \n",
    "    recall = true_positive / np.sum(y_test.values.flatten() == 1)\n",
    "    precision_recall_curve.append((precision, recall))\n",
    "\n",
    "print(\"Precision-Recall Curve Points:\", precision_recall_curve)\n",
    "\n",
    "\n",
    "import numpy as np\n",
    "import matplotlib.pyplot as plt\n",
    "\n",
    "precision_recall_curve = []\n",
    "for threshold in np.linspace(0, 1, 100):\n",
    "    y_pred_thresh = y_pred >= threshold\n",
    "    true_positive = np.sum(y_pred_thresh[y_test.values.flatten() == 1])\n",
    "    false_positive = np.sum(y_pred_thresh[y_test.values.flatten() == 0])\n",
    "    false_negative = np.sum(~y_pred_thresh[y_test.values.flatten() == 1])\n",
    "    \n",
    "    if true_positive + false_positive == 0:\n",
    "        precision = 0\n",
    "    else:\n",
    "        precision = true_positive / (true_positive + false_positive)\n",
    "    \n",
    "    if true_positive + false_negative == 0:\n",
    "        recall = 0\n",
    "    else:\n",
    "        recall = true_positive / (true_positive + false_negative)\n",
    "        \n",
    "    precision_recall_curve.append((precision, recall))\n",
    "\n",
    "# Unpack precision and recall values\n",
    "precisions, recalls = zip(*precision_recall_curve)\n",
    "\n",
    "# Plot Precision-Recall Curve\n",
    "plt.figure(figsize=(8, 6))\n",
    "plt.plot(recalls, precisions, marker='.')\n",
    "plt.xlabel('Recall')\n",
    "plt.ylabel('Precision')\n",
    "plt.title('Precision-Recall Curve')\n",
    "plt.show()\n",
    "\n",
    "\n",
    "\n",
    "\n"
   ]
  },
  {
   "cell_type": "code",
   "execution_count": 91,
   "id": "dc8208d3-f6be-428e-a5af-070bee5764a0",
   "metadata": {},
   "outputs": [
    {
     "data": {
      "text/plain": [
       "(0.14285714285714285,\n",
       " 0,\n",
       " 0,\n",
       " 0,\n",
       " 0,\n",
       " 0,\n",
       " 0,\n",
       " 0,\n",
       " 0,\n",
       " 0,\n",
       " 0,\n",
       " 0,\n",
       " 0,\n",
       " 0,\n",
       " 0,\n",
       " 0,\n",
       " 0,\n",
       " 0,\n",
       " 0,\n",
       " 0,\n",
       " 0,\n",
       " 0,\n",
       " 0,\n",
       " 0,\n",
       " 0,\n",
       " 0,\n",
       " 0,\n",
       " 0,\n",
       " 0,\n",
       " 0,\n",
       " 0,\n",
       " 0,\n",
       " 0,\n",
       " 0,\n",
       " 0,\n",
       " 0,\n",
       " 0,\n",
       " 0,\n",
       " 0,\n",
       " 0,\n",
       " 0,\n",
       " 0,\n",
       " 0,\n",
       " 0,\n",
       " 0,\n",
       " 0,\n",
       " 0,\n",
       " 0,\n",
       " 0,\n",
       " 0,\n",
       " 0,\n",
       " 0,\n",
       " 0,\n",
       " 0,\n",
       " 0,\n",
       " 0,\n",
       " 0,\n",
       " 0,\n",
       " 0,\n",
       " 0,\n",
       " 0,\n",
       " 0,\n",
       " 0,\n",
       " 0,\n",
       " 0,\n",
       " 0,\n",
       " 0,\n",
       " 0,\n",
       " 0,\n",
       " 0,\n",
       " 0,\n",
       " 0,\n",
       " 0,\n",
       " 0,\n",
       " 0,\n",
       " 0,\n",
       " 0,\n",
       " 0,\n",
       " 0,\n",
       " 0,\n",
       " 0,\n",
       " 0,\n",
       " 0,\n",
       " 0,\n",
       " 0,\n",
       " 0,\n",
       " 0,\n",
       " 0,\n",
       " 0,\n",
       " 0,\n",
       " 0,\n",
       " 0,\n",
       " 0,\n",
       " 0,\n",
       " 0,\n",
       " 0,\n",
       " 0,\n",
       " 0,\n",
       " 0,\n",
       " 0)"
      ]
     },
     "execution_count": 91,
     "metadata": {},
     "output_type": "execute_result"
    }
   ],
   "source": [
    "precisions"
   ]
  },
  {
   "cell_type": "code",
   "execution_count": 54,
   "id": "4ef8582e-3649-4b3d-8b93-2da4061d8733",
   "metadata": {},
   "outputs": [
    {
     "data": {
      "image/png": "[encoded data removed]",
      "text/plain": [
       "<Figure size 800x600 with 2 Axes>"
      ]
     },
     "metadata": {},
     "output_type": "display_data"
    }
   ],
   "source": [
    "import matplotlib.pyplot as plt\n",
    "import seaborn as sns\n",
    "\n",
    "# Plot Confusion Matrix\n",
    "plt.figure(figsize=(8, 6))\n",
    "sns.heatmap(confusion_matrix, annot=True, cmap='Blues', fmt=\".0f\")\n",
    "plt.title('Confusion Matrix')\n",
    "plt.xlabel('Predicted Label')\n",
    "plt.ylabel('True Label')\n",
    "plt.show()\n"
   ]
  },
  {
   "cell_type": "code",
   "execution_count": 96,
   "id": "409fa5bc-ef5c-43c8-a39f-ba0352c2728c",
   "metadata": {},
   "outputs": [
    {
     "data": {
      "image/png": "[encoded data removed]",
      "text/plain": [
       "<Figure size 800x600 with 1 Axes>"
      ]
     },
     "metadata": {},
     "output_type": "display_data"
    },
    {
     "name": "stdout",
     "output_type": "stream",
     "text": [
      "Area Under Precision-Recall Curve: 0.5714285714285714\n"
     ]
    }
   ],
   "source": [
    "import matplotlib.pyplot as plt\n",
    "from sklearn.metrics import precision_recall_curve, auc\n",
    "\n",
    "\n",
    "# Plot Precision-Recall Curve\n",
    "precision, recall, thresholds = precision_recall_curve(y_test, y_pred)\n",
    "plt.figure(figsize=(8, 6))\n",
    "plt.plot(recall, precision, marker='.')\n",
    "plt.xlabel('Recall')\n",
    "plt.ylabel('Precision')\n",
    "plt.title('Precision-Recall Curve')\n",
    "plt.show()\n",
    "\n",
    "# Compute Area Under Curve (AUC) for Precision-Recall Curve\n",
    "pr_auc = auc(recall, precision)\n",
    "print(f\"Area Under Precision-Recall Curve: {pr_auc}\")"
   ]
  },
  {
   "cell_type": "code",
   "execution_count": 76,
   "id": "b9ddcf64-8c6e-4c90-8cf3-9af877a746ce",
   "metadata": {},
   "outputs": [
    {
     "name": "stdout",
     "output_type": "stream",
     "text": [
      "Precision-Recall Curve Points:\n",
      "Precision: 0.14285714285714285, Recall: 1.0\n",
      "Precision: 1.0, Recall: 0.0\n"
     ]
    }
   ],
   "source": [
    "print(\"Precision-Recall Curve Points:\")\n",
    "for p, r in zip(precision, recall):\n",
    "    print(f\"Precision: {p}, Recall: {r}\")"
   ]
  },
  {
   "cell_type": "code",
   "execution_count": 100,
   "id": "05a89b10-3a35-49ae-a692-2ca7b5a5c9ce",
   "metadata": {},
   "outputs": [
    {
     "data": {
      "text/plain": [
       "array([0.14285714])"
      ]
     },
     "execution_count": 100,
     "metadata": {},
     "output_type": "execute_result"
    }
   ],
   "source": [
    "(precision[:1])"
   ]
  },
  {
   "cell_type": "code",
   "execution_count": 71,
   "id": "7c35898f-15b6-4994-98f2-b5f00b8e4207",
   "metadata": {},
   "outputs": [
    {
     "data": {
      "text/plain": [
       "array([1., 0.])"
      ]
     },
     "execution_count": 71,
     "metadata": {},
     "output_type": "execute_result"
    }
   ],
   "source": [
    "recall"
   ]
  },
  {
   "cell_type": "code",
   "execution_count": 105,
   "id": "e52087e9-2383-4627-86bb-3cc415a9524c",
   "metadata": {},
   "outputs": [
    {
     "data": {
      "text/plain": [
       "array([[0],\n",
       "       [0],\n",
       "       [0],\n",
       "       [1],\n",
       "       [0],\n",
       "       [0],\n",
       "       [0],\n",
       "       [0],\n",
       "       [1],\n",
       "       [0],\n",
       "       [0],\n",
       "       [0],\n",
       "       [0],\n",
       "       [0]], dtype=int64)"
      ]
     },
     "execution_count": 105,
     "metadata": {},
     "output_type": "execute_result"
    }
   ],
   "source": [
    "y_test.values"
   ]
  },
  {
   "cell_type": "code",
   "execution_count": null,
   "id": "39c80a41-8e9d-4748-86e3-6b8594ab6b59",
   "metadata": {},
   "outputs": [],
   "source": []
  }
 ],
 "metadata": {
  "kernelspec": {
   "display_name": "Python 3 (ipykernel)",
   "language": "python",
   "name": "python3"
  },
  "language_info": {
   "codemirror_mode": {
    "name": "ipython",
    "version": 3
   },
   "file_extension": ".py",
   "mimetype": "text/x-python",
   "name": "python",
   "nbconvert_exporter": "python",
   "pygments_lexer": "ipython3",
   "version": "3.10.13"
  }
 },
 "nbformat": 4,
 "nbformat_minor": 5
}
