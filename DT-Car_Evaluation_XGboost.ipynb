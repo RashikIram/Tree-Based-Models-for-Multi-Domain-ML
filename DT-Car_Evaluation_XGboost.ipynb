{
 "cells": [
  {
   "cell_type": "code",
   "execution_count": 1,
   "id": "initial_id",
   "metadata": {
    "ExecuteTime": {
     "end_time": "2024-04-14T09:36:39.568976Z",
     "start_time": "2024-04-14T09:36:37.259651Z"
    }
   },
   "outputs": [],
   "source": [
    "from ucimlrepo import fetch_ucirepo \n",
    "\n",
    "import pandas as pd\n",
    "\n",
    "import numpy as np\n",
    "\n",
    "import matplotlib.pyplot as plt\n",
    "\n",
    "import warnings\n",
    "\n",
    "from sklearn.preprocessing import LabelEncoder\n",
    "\n",
    "le = LabelEncoder()\n",
    "\n",
    "warnings.filterwarnings(\"ignore\")\n",
    "\n",
    "# fetch dataset \n",
    "car_evaluation = fetch_ucirepo(id=19) \n",
    "  \n",
    "# data (as pandas dataframes) \n",
    "X = car_evaluation.data.features \n",
    "y = car_evaluation.data.targets \n",
    "\n",
    "y.loc[:, 'class'] = le.fit_transform(y['class'])\n",
    "\n",
    "y = pd.DataFrame(y, columns=[\"class\"])\n",
    "y = y.astype(int)"
   ]
  },
  {
   "cell_type": "code",
   "execution_count": 2,
   "id": "e9242cd67ede3b45",
   "metadata": {
    "ExecuteTime": {
     "end_time": "2024-04-14T09:36:40.192407Z",
     "start_time": "2024-04-14T09:36:40.186126Z"
    }
   },
   "outputs": [
    {
     "data": {
      "text/html": [
       "<div>\n",
       "<style scoped>\n",
       "    .dataframe tbody tr th:only-of-type {\n",
       "        vertical-align: middle;\n",
       "    }\n",
       "\n",
       "    .dataframe tbody tr th {\n",
       "        vertical-align: top;\n",
       "    }\n",
       "\n",
       "    .dataframe thead th {\n",
       "        text-align: right;\n",
       "    }\n",
       "</style>\n",
       "<table border=\"1\" class=\"dataframe\">\n",
       "  <thead>\n",
       "    <tr style=\"text-align: right;\">\n",
       "      <th></th>\n",
       "      <th>buying</th>\n",
       "      <th>maint</th>\n",
       "      <th>doors</th>\n",
       "      <th>persons</th>\n",
       "      <th>lug_boot</th>\n",
       "      <th>safety</th>\n",
       "    </tr>\n",
       "  </thead>\n",
       "  <tbody>\n",
       "    <tr>\n",
       "      <th>0</th>\n",
       "      <td>vhigh</td>\n",
       "      <td>vhigh</td>\n",
       "      <td>2</td>\n",
       "      <td>2</td>\n",
       "      <td>small</td>\n",
       "      <td>low</td>\n",
       "    </tr>\n",
       "    <tr>\n",
       "      <th>1</th>\n",
       "      <td>vhigh</td>\n",
       "      <td>vhigh</td>\n",
       "      <td>2</td>\n",
       "      <td>2</td>\n",
       "      <td>small</td>\n",
       "      <td>med</td>\n",
       "    </tr>\n",
       "    <tr>\n",
       "      <th>2</th>\n",
       "      <td>vhigh</td>\n",
       "      <td>vhigh</td>\n",
       "      <td>2</td>\n",
       "      <td>2</td>\n",
       "      <td>small</td>\n",
       "      <td>high</td>\n",
       "    </tr>\n",
       "    <tr>\n",
       "      <th>3</th>\n",
       "      <td>vhigh</td>\n",
       "      <td>vhigh</td>\n",
       "      <td>2</td>\n",
       "      <td>2</td>\n",
       "      <td>med</td>\n",
       "      <td>low</td>\n",
       "    </tr>\n",
       "    <tr>\n",
       "      <th>4</th>\n",
       "      <td>vhigh</td>\n",
       "      <td>vhigh</td>\n",
       "      <td>2</td>\n",
       "      <td>2</td>\n",
       "      <td>med</td>\n",
       "      <td>med</td>\n",
       "    </tr>\n",
       "  </tbody>\n",
       "</table>\n",
       "</div>"
      ],
      "text/plain": [
       "  buying  maint doors persons lug_boot safety\n",
       "0  vhigh  vhigh     2       2    small    low\n",
       "1  vhigh  vhigh     2       2    small    med\n",
       "2  vhigh  vhigh     2       2    small   high\n",
       "3  vhigh  vhigh     2       2      med    low\n",
       "4  vhigh  vhigh     2       2      med    med"
      ]
     },
     "execution_count": 2,
     "metadata": {},
     "output_type": "execute_result"
    }
   ],
   "source": [
    "X.head()"
   ]
  },
  {
   "cell_type": "code",
   "execution_count": 3,
   "id": "ba7e604e7daadac5",
   "metadata": {
    "ExecuteTime": {
     "end_time": "2024-04-14T09:36:40.975796Z",
     "start_time": "2024-04-14T09:36:40.971243Z"
    }
   },
   "outputs": [
    {
     "data": {
      "text/html": [
       "<div>\n",
       "<style scoped>\n",
       "    .dataframe tbody tr th:only-of-type {\n",
       "        vertical-align: middle;\n",
       "    }\n",
       "\n",
       "    .dataframe tbody tr th {\n",
       "        vertical-align: top;\n",
       "    }\n",
       "\n",
       "    .dataframe thead th {\n",
       "        text-align: right;\n",
       "    }\n",
       "</style>\n",
       "<table border=\"1\" class=\"dataframe\">\n",
       "  <thead>\n",
       "    <tr style=\"text-align: right;\">\n",
       "      <th></th>\n",
       "      <th>class</th>\n",
       "    </tr>\n",
       "  </thead>\n",
       "  <tbody>\n",
       "    <tr>\n",
       "      <th>0</th>\n",
       "      <td>2</td>\n",
       "    </tr>\n",
       "    <tr>\n",
       "      <th>1</th>\n",
       "      <td>2</td>\n",
       "    </tr>\n",
       "    <tr>\n",
       "      <th>2</th>\n",
       "      <td>2</td>\n",
       "    </tr>\n",
       "    <tr>\n",
       "      <th>3</th>\n",
       "      <td>2</td>\n",
       "    </tr>\n",
       "    <tr>\n",
       "      <th>4</th>\n",
       "      <td>2</td>\n",
       "    </tr>\n",
       "  </tbody>\n",
       "</table>\n",
       "</div>"
      ],
      "text/plain": [
       "   class\n",
       "0      2\n",
       "1      2\n",
       "2      2\n",
       "3      2\n",
       "4      2"
      ]
     },
     "execution_count": 3,
     "metadata": {},
     "output_type": "execute_result"
    }
   ],
   "source": [
    "y.head()"
   ]
  },
  {
   "cell_type": "code",
   "execution_count": 4,
   "id": "192ba899034d0969",
   "metadata": {
    "ExecuteTime": {
     "end_time": "2024-04-14T09:36:41.713066Z",
     "start_time": "2024-04-14T09:36:41.709561Z"
    }
   },
   "outputs": [
    {
     "data": {
      "text/plain": [
       "(1728, 6)"
      ]
     },
     "execution_count": 4,
     "metadata": {},
     "output_type": "execute_result"
    }
   ],
   "source": [
    "X.shape"
   ]
  },
  {
   "cell_type": "code",
   "execution_count": 5,
   "id": "1e752c881c1d8298",
   "metadata": {
    "ExecuteTime": {
     "end_time": "2024-04-14T09:36:42.574194Z",
     "start_time": "2024-04-14T09:36:42.570169Z"
    }
   },
   "outputs": [
    {
     "data": {
      "text/plain": [
       "(1728, 1)"
      ]
     },
     "execution_count": 5,
     "metadata": {},
     "output_type": "execute_result"
    }
   ],
   "source": [
    "y.shape"
   ]
  },
  {
   "cell_type": "code",
   "execution_count": 6,
   "id": "7942049aa363388a",
   "metadata": {
    "ExecuteTime": {
     "end_time": "2024-04-14T09:36:44.135010Z",
     "start_time": "2024-04-14T09:36:44.125650Z"
    }
   },
   "outputs": [
    {
     "data": {
      "text/html": [
       "<div>\n",
       "<style scoped>\n",
       "    .dataframe tbody tr th:only-of-type {\n",
       "        vertical-align: middle;\n",
       "    }\n",
       "\n",
       "    .dataframe tbody tr th {\n",
       "        vertical-align: top;\n",
       "    }\n",
       "\n",
       "    .dataframe thead th {\n",
       "        text-align: right;\n",
       "    }\n",
       "</style>\n",
       "<table border=\"1\" class=\"dataframe\">\n",
       "  <thead>\n",
       "    <tr style=\"text-align: right;\">\n",
       "      <th></th>\n",
       "      <th>buying</th>\n",
       "      <th>maint</th>\n",
       "      <th>doors</th>\n",
       "      <th>persons</th>\n",
       "      <th>lug_boot</th>\n",
       "      <th>safety</th>\n",
       "    </tr>\n",
       "  </thead>\n",
       "  <tbody>\n",
       "    <tr>\n",
       "      <th>count</th>\n",
       "      <td>1728</td>\n",
       "      <td>1728</td>\n",
       "      <td>1728</td>\n",
       "      <td>1728</td>\n",
       "      <td>1728</td>\n",
       "      <td>1728</td>\n",
       "    </tr>\n",
       "    <tr>\n",
       "      <th>unique</th>\n",
       "      <td>4</td>\n",
       "      <td>4</td>\n",
       "      <td>4</td>\n",
       "      <td>3</td>\n",
       "      <td>3</td>\n",
       "      <td>3</td>\n",
       "    </tr>\n",
       "    <tr>\n",
       "      <th>top</th>\n",
       "      <td>vhigh</td>\n",
       "      <td>vhigh</td>\n",
       "      <td>2</td>\n",
       "      <td>2</td>\n",
       "      <td>small</td>\n",
       "      <td>low</td>\n",
       "    </tr>\n",
       "    <tr>\n",
       "      <th>freq</th>\n",
       "      <td>432</td>\n",
       "      <td>432</td>\n",
       "      <td>432</td>\n",
       "      <td>576</td>\n",
       "      <td>576</td>\n",
       "      <td>576</td>\n",
       "    </tr>\n",
       "  </tbody>\n",
       "</table>\n",
       "</div>"
      ],
      "text/plain": [
       "       buying  maint doors persons lug_boot safety\n",
       "count    1728   1728  1728    1728     1728   1728\n",
       "unique      4      4     4       3        3      3\n",
       "top     vhigh  vhigh     2       2    small    low\n",
       "freq      432    432   432     576      576    576"
      ]
     },
     "execution_count": 6,
     "metadata": {},
     "output_type": "execute_result"
    }
   ],
   "source": [
    "X.describe()"
   ]
  },
  {
   "cell_type": "code",
   "execution_count": 7,
   "id": "5316642d5683723b",
   "metadata": {
    "ExecuteTime": {
     "end_time": "2024-04-14T09:36:45.086537Z",
     "start_time": "2024-04-14T09:36:45.079556Z"
    }
   },
   "outputs": [
    {
     "data": {
      "text/html": [
       "<div>\n",
       "<style scoped>\n",
       "    .dataframe tbody tr th:only-of-type {\n",
       "        vertical-align: middle;\n",
       "    }\n",
       "\n",
       "    .dataframe tbody tr th {\n",
       "        vertical-align: top;\n",
       "    }\n",
       "\n",
       "    .dataframe thead th {\n",
       "        text-align: right;\n",
       "    }\n",
       "</style>\n",
       "<table border=\"1\" class=\"dataframe\">\n",
       "  <thead>\n",
       "    <tr style=\"text-align: right;\">\n",
       "      <th></th>\n",
       "      <th>class</th>\n",
       "    </tr>\n",
       "  </thead>\n",
       "  <tbody>\n",
       "    <tr>\n",
       "      <th>count</th>\n",
       "      <td>1728.000000</td>\n",
       "    </tr>\n",
       "    <tr>\n",
       "      <th>mean</th>\n",
       "      <td>1.553241</td>\n",
       "    </tr>\n",
       "    <tr>\n",
       "      <th>std</th>\n",
       "      <td>0.875948</td>\n",
       "    </tr>\n",
       "    <tr>\n",
       "      <th>min</th>\n",
       "      <td>0.000000</td>\n",
       "    </tr>\n",
       "    <tr>\n",
       "      <th>25%</th>\n",
       "      <td>1.000000</td>\n",
       "    </tr>\n",
       "    <tr>\n",
       "      <th>50%</th>\n",
       "      <td>2.000000</td>\n",
       "    </tr>\n",
       "    <tr>\n",
       "      <th>75%</th>\n",
       "      <td>2.000000</td>\n",
       "    </tr>\n",
       "    <tr>\n",
       "      <th>max</th>\n",
       "      <td>3.000000</td>\n",
       "    </tr>\n",
       "  </tbody>\n",
       "</table>\n",
       "</div>"
      ],
      "text/plain": [
       "             class\n",
       "count  1728.000000\n",
       "mean      1.553241\n",
       "std       0.875948\n",
       "min       0.000000\n",
       "25%       1.000000\n",
       "50%       2.000000\n",
       "75%       2.000000\n",
       "max       3.000000"
      ]
     },
     "execution_count": 7,
     "metadata": {},
     "output_type": "execute_result"
    }
   ],
   "source": [
    "y.describe()"
   ]
  },
  {
   "cell_type": "code",
   "execution_count": 8,
   "id": "a526b3a323ab4f2d",
   "metadata": {
    "ExecuteTime": {
     "end_time": "2024-04-14T09:36:50.940590Z",
     "start_time": "2024-04-14T09:36:50.935301Z"
    }
   },
   "outputs": [
    {
     "data": {
      "text/plain": [
       "buying      0\n",
       "maint       0\n",
       "doors       0\n",
       "persons     0\n",
       "lug_boot    0\n",
       "safety      0\n",
       "dtype: int64"
      ]
     },
     "execution_count": 8,
     "metadata": {},
     "output_type": "execute_result"
    }
   ],
   "source": [
    "X.isnull().sum()"
   ]
  },
  {
   "cell_type": "code",
   "execution_count": 9,
   "id": "d94ec7bf0a8afba9",
   "metadata": {
    "ExecuteTime": {
     "end_time": "2024-04-14T09:36:51.584465Z",
     "start_time": "2024-04-14T09:36:51.580014Z"
    }
   },
   "outputs": [
    {
     "data": {
      "text/plain": [
       "class    0\n",
       "dtype: int64"
      ]
     },
     "execution_count": 9,
     "metadata": {},
     "output_type": "execute_result"
    }
   ],
   "source": [
    "y.isnull().sum()"
   ]
  },
  {
   "cell_type": "code",
   "execution_count": 10,
   "id": "6264b9a1f2919484",
   "metadata": {
    "ExecuteTime": {
     "end_time": "2024-04-14T09:37:21.480633Z",
     "start_time": "2024-04-14T09:37:21.476556Z"
    }
   },
   "outputs": [],
   "source": [
    "from sklearn.preprocessing import OrdinalEncoder\n",
    "from sklearn.model_selection import train_test_split\n",
    "\n",
    "\n",
    "# Extract text features\n",
    "cats = X.select_dtypes(exclude=np.number).columns.tolist()\n",
    "\n",
    "# Convert to pd.Categorical\n",
    "for col in cats:\n",
    "   X[col] = X[col].astype('category')"
   ]
  },
  {
   "cell_type": "code",
   "execution_count": 11,
   "id": "ad1b6b2e3c8987c4",
   "metadata": {
    "ExecuteTime": {
     "end_time": "2024-04-14T09:37:21.863084Z",
     "start_time": "2024-04-14T09:37:21.858580Z"
    }
   },
   "outputs": [
    {
     "data": {
      "text/plain": [
       "buying      category\n",
       "maint       category\n",
       "doors       category\n",
       "persons     category\n",
       "lug_boot    category\n",
       "safety      category\n",
       "dtype: object"
      ]
     },
     "execution_count": 11,
     "metadata": {},
     "output_type": "execute_result"
    }
   ],
   "source": [
    "X.dtypes"
   ]
  },
  {
   "cell_type": "code",
   "execution_count": 12,
   "id": "a9755280b12347db",
   "metadata": {
    "ExecuteTime": {
     "end_time": "2024-04-14T09:37:22.624524Z",
     "start_time": "2024-04-14T09:37:22.619518Z"
    }
   },
   "outputs": [
    {
     "data": {
      "text/plain": [
       "class    int32\n",
       "dtype: object"
      ]
     },
     "execution_count": 12,
     "metadata": {},
     "output_type": "execute_result"
    }
   ],
   "source": [
    "y.dtypes"
   ]
  },
  {
   "cell_type": "code",
   "execution_count": 13,
   "id": "dc05a910b995d93",
   "metadata": {
    "ExecuteTime": {
     "end_time": "2024-04-14T09:37:25.536855Z",
     "start_time": "2024-04-14T09:37:25.532696Z"
    }
   },
   "outputs": [
    {
     "name": "stdout",
     "output_type": "stream",
     "text": [
      "[0 1 2 3]\n"
     ]
    }
   ],
   "source": [
    "print(np.unique(y))"
   ]
  },
  {
   "cell_type": "code",
   "execution_count": 14,
   "id": "13c18dd1b847d694",
   "metadata": {
    "ExecuteTime": {
     "end_time": "2024-04-14T09:37:26.929841Z",
     "start_time": "2024-04-14T09:37:26.924708Z"
    }
   },
   "outputs": [],
   "source": [
    "# Split the data into 70% train, 15% validation, and 15% test sets\n",
    "X_train, X_temp, y_train, y_temp = train_test_split(X, y, test_size=0.3, random_state=1)\n",
    "X_val, X_test, y_valid, y_test = train_test_split(X_temp, y_temp, test_size=0.5, random_state=1)"
   ]
  },
  {
   "cell_type": "code",
   "execution_count": 15,
   "id": "5c79cbce5fd23f83",
   "metadata": {
    "ExecuteTime": {
     "end_time": "2024-04-14T09:37:28.159158Z",
     "start_time": "2024-04-14T09:37:28.155046Z"
    }
   },
   "outputs": [
    {
     "data": {
      "text/plain": [
       "((1209, 6), (259, 6), (260, 6))"
      ]
     },
     "execution_count": 15,
     "metadata": {},
     "output_type": "execute_result"
    }
   ],
   "source": [
    "X_train.shape, X_val.shape, X_test.shape"
   ]
  },
  {
   "cell_type": "code",
   "execution_count": 16,
   "id": "e5a7e9187441d315",
   "metadata": {
    "ExecuteTime": {
     "end_time": "2024-04-14T09:37:30.546758Z",
     "start_time": "2024-04-14T09:37:30.498765Z"
    }
   },
   "outputs": [],
   "source": [
    "import xgboost as xgb\n",
    "\n",
    "# Create regression matrices\n",
    "dtrain_clf = xgb.DMatrix(X_train, y_train, enable_categorical=True)\n",
    "dtest_clf = xgb.DMatrix(X_test, y_test, enable_categorical=True)\n",
    "dval_clf = xgb.DMatrix(X_val, y_valid, enable_categorical=True)"
   ]
  },
  {
   "cell_type": "code",
   "execution_count": 17,
   "id": "eef44e687d61b147",
   "metadata": {
    "ExecuteTime": {
     "end_time": "2024-04-14T09:51:06.463678Z",
     "start_time": "2024-04-14T09:37:36.216538Z"
    }
   },
   "outputs": [
    {
     "name": "stdout",
     "output_type": "stream",
     "text": [
      "Best Hyperparameters: {'gamma': 0, 'learning_rate': 0.1, 'max_depth': 5, 'min_child_weight': 3}\n"
     ]
    }
   ],
   "source": [
    "# Define hyperparameters to tune\n",
    "hyperparameters_to_tune = {\n",
    "    \"max_depth\": [3, 5, 7],\n",
    "    \"learning_rate\": [0.001, 0.01, 0.1, 0.3],\n",
    "    \"min_child_weight\": [1, 3, 5, 7],\n",
    "    \"gamma\": [0, 0.1, 0.2, 0,3],\n",
    "}\n",
    "\n",
    "# Use Grid Search or Random Search to find optimal hyperparameters\n",
    "from sklearn.model_selection import GridSearchCV\n",
    "\n",
    "xgb_model = xgb.XGBClassifier(objective=\"multi:softprob\", tree_method=\"gpu_hist\", enable_categorical = True)\n",
    "\n",
    "grid_search = GridSearchCV(estimator=xgb_model, param_grid=hyperparameters_to_tune, cv=5, scoring=\"accuracy\")\n",
    "grid_search.fit(X_val, y_valid)\n",
    "\n",
    "# Get the best parameters\n",
    "best_params = grid_search.best_params_\n",
    "print(\"Best Hyperparameters:\", best_params)\n"
   ]
  },
  {
   "cell_type": "code",
   "execution_count": 18,
   "id": "625fa72ffff895e6",
   "metadata": {
    "ExecuteTime": {
     "end_time": "2024-04-14T10:10:41.712073Z",
     "start_time": "2024-04-14T10:10:40.528661Z"
    }
   },
   "outputs": [
    {
     "data": {
      "text/plain": [
       "array([2, 1, 2, 2, 2, 2, 2, 0, 2, 1, 2, 2, 2, 2, 2, 2, 0, 0, 2, 0, 2, 0,\n",
       "       2, 0, 0, 2, 2, 1, 2, 0, 2, 0, 2, 2, 2, 2, 1, 2, 2, 2, 0, 2, 2, 2,\n",
       "       2, 0, 2, 2, 2, 3, 2, 2, 2, 2, 2, 0, 2, 0, 2, 2, 0, 2, 0, 3, 0, 0,\n",
       "       0, 2, 2, 2, 2, 2, 0, 2, 0, 3, 2, 2, 0, 0, 0, 0, 2, 2, 2, 3, 2, 2,\n",
       "       2, 2, 2, 2, 2, 2, 0, 2, 2, 2, 2, 2, 2, 2, 0, 2, 2, 2, 2, 2, 2, 3,\n",
       "       2, 2, 0, 2, 0, 2, 0, 0, 2, 0, 2, 2, 2, 2, 2, 2, 2, 2, 2, 0, 2, 2,\n",
       "       2, 2, 2, 0, 2, 2, 2, 0, 0, 2, 2, 2, 2, 2, 0, 0, 2, 2, 2, 2, 0, 0,\n",
       "       2, 0, 2, 1, 2, 2, 3, 0, 2, 0, 2, 2, 2, 2, 0, 2, 2, 2, 2, 2, 2, 2,\n",
       "       1, 2, 2, 2, 2, 0, 2, 0, 2, 2, 2, 2, 2, 2, 2, 2, 2, 0, 2, 2, 2, 2,\n",
       "       0, 2, 2, 0, 2, 2, 0, 2, 2, 0, 1, 0, 0, 0, 2, 2, 2, 2, 0, 2, 2, 3,\n",
       "       2, 2, 2, 2, 2, 2, 2, 2, 0, 2, 0, 2, 2, 2, 2, 2, 2, 2, 2, 2, 3, 2,\n",
       "       2, 0, 0, 0, 2, 2, 2, 2, 0, 2, 0, 0, 2, 2, 2, 2, 2, 0], dtype=int64)"
      ]
     },
     "execution_count": 18,
     "metadata": {},
     "output_type": "execute_result"
    }
   ],
   "source": [
    "# Train the model with the best parameters\n",
    "best_model = xgb.XGBClassifier(objective=\"multi:softprob\", tree_method=\"gpu_hist\", **best_params, enable_categorical = True)\n",
    "best_model.fit(X_train, y_train)\n",
    "\n",
    "# Predict on test set\n",
    "y_pred = best_model.predict(X_test)\n",
    "\n",
    "y_pred\n",
    "\n"
   ]
  },
  {
   "cell_type": "code",
   "execution_count": 25,
   "id": "e75d9e8e-e35b-4cfa-87aa-be223eaeba12",
   "metadata": {},
   "outputs": [
    {
     "data": {
      "text/plain": [
       "array([2, 1, 2, 2, 2, 2, 2, 0, 2, 1, 2, 2, 2, 2, 2, 2, 0, 0, 2, 0, 2, 0,\n",
       "       2, 0, 0, 2, 2, 1, 2, 1, 2, 0, 2, 2, 2, 2, 1, 2, 2, 2, 0, 2, 2, 2,\n",
       "       2, 0, 2, 2, 2, 3, 2, 2, 2, 2, 2, 0, 2, 0, 2, 2, 0, 2, 0, 3, 0, 0,\n",
       "       0, 2, 2, 2, 2, 2, 0, 2, 0, 3, 2, 2, 0, 0, 0, 0, 2, 2, 2, 3, 2, 2,\n",
       "       2, 2, 2, 2, 2, 2, 0, 2, 2, 2, 2, 2, 2, 2, 0, 2, 2, 2, 2, 2, 2, 3,\n",
       "       2, 2, 2, 2, 0, 2, 0, 0, 2, 0, 2, 2, 2, 2, 2, 2, 2, 2, 2, 2, 2, 2,\n",
       "       2, 2, 2, 0, 2, 2, 2, 0, 0, 2, 2, 2, 2, 2, 0, 0, 2, 2, 2, 2, 1, 0,\n",
       "       2, 0, 2, 1, 2, 2, 3, 2, 2, 0, 2, 2, 2, 2, 0, 2, 2, 2, 2, 2, 2, 2,\n",
       "       1, 2, 2, 2, 2, 0, 2, 0, 2, 2, 2, 2, 2, 2, 2, 2, 2, 0, 2, 2, 2, 2,\n",
       "       0, 2, 2, 0, 2, 2, 2, 2, 2, 0, 1, 0, 0, 0, 2, 2, 2, 2, 0, 2, 2, 3,\n",
       "       2, 2, 2, 2, 2, 2, 2, 2, 0, 2, 0, 2, 2, 2, 2, 2, 2, 2, 2, 2, 3, 2,\n",
       "       2, 0, 0, 0, 2, 2, 2, 2, 0, 2, 0, 0, 2, 2, 2, 2, 2, 0])"
      ]
     },
     "execution_count": 25,
     "metadata": {},
     "output_type": "execute_result"
    }
   ],
   "source": [
    "np.array(y_test1.flatten()) "
   ]
  },
  {
   "cell_type": "code",
   "execution_count": 26,
   "id": "20ada2e122b762f4",
   "metadata": {
    "ExecuteTime": {
     "end_time": "2024-04-14T10:10:43.844918Z",
     "start_time": "2024-04-14T10:10:43.841282Z"
    }
   },
   "outputs": [
    {
     "name": "stdout",
     "output_type": "stream",
     "text": [
      "Accuracy: 0.9769230769230769\n"
     ]
    }
   ],
   "source": [
    "accuracy = np.mean(y_pred == y_test1.flatten())\n",
    "print(\"Accuracy:\", accuracy)\n"
   ]
  },
  {
   "cell_type": "code",
   "execution_count": 56,
   "id": "6abef641-694e-461a-80da-28edceb84e4a",
   "metadata": {
    "ExecuteTime": {
     "end_time": "2024-04-14T10:10:45.991988Z",
     "start_time": "2024-04-14T10:10:45.988483Z"
    }
   },
   "outputs": [],
   "source": [
    "y_test_values_reshaped = y_test.values.flatten()\n"
   ]
  },
  {
   "cell_type": "code",
   "execution_count": 57,
   "id": "8a98cfbb-aaf7-43df-8aa1-424ce43680c3",
   "metadata": {
    "ExecuteTime": {
     "end_time": "2024-04-14T10:10:46.984196Z",
     "start_time": "2024-04-14T10:10:46.974891Z"
    }
   },
   "outputs": [
    {
     "name": "stdout",
     "output_type": "stream",
     "text": [
      "Confusion Matrix:\n",
      "[[ 57.   0.   0.   0.]\n",
      " [  2.   7.   0.   0.]\n",
      " [  4.   0. 182.   0.]\n",
      " [  0.   0.   0.   8.]]\n",
      "Precision: [0.9047619 1.        1.        1.       ]\n",
      "Recall: [1.         0.77777778 0.97849462 1.        ]\n",
      "F-score: [0.95       0.875      0.98913043 1.        ]\n",
      "Precision-Recall Curve Points: [(0.13636363636363635, 1.0), (1.0, 0.7777777777777778), (1.0, 0.7777777777777778), (1.0, 0.7777777777777778), (1.0, 0.7777777777777778), (1.0, 0.7777777777777778), (1.0, 0.7777777777777778), (1.0, 0.7777777777777778), (1.0, 0.7777777777777778), (1.0, 0.7777777777777778), (1.0, 0.7777777777777778), (1.0, 0.7777777777777778), (1.0, 0.7777777777777778), (1.0, 0.7777777777777778), (1.0, 0.7777777777777778), (1.0, 0.7777777777777778), (1.0, 0.7777777777777778), (1.0, 0.7777777777777778), (1.0, 0.7777777777777778), (1.0, 0.7777777777777778), (1.0, 0.7777777777777778), (1.0, 0.7777777777777778), (1.0, 0.7777777777777778), (1.0, 0.7777777777777778), (1.0, 0.7777777777777778), (1.0, 0.7777777777777778), (1.0, 0.7777777777777778), (1.0, 0.7777777777777778), (1.0, 0.7777777777777778), (1.0, 0.7777777777777778), (1.0, 0.7777777777777778), (1.0, 0.7777777777777778), (1.0, 0.7777777777777778), (1.0, 0.7777777777777778), (1.0, 0.7777777777777778), (1.0, 0.7777777777777778), (1.0, 0.7777777777777778), (1.0, 0.7777777777777778), (1.0, 0.7777777777777778), (1.0, 0.7777777777777778), (1.0, 0.7777777777777778), (1.0, 0.7777777777777778), (1.0, 0.7777777777777778), (1.0, 0.7777777777777778), (1.0, 0.7777777777777778), (1.0, 0.7777777777777778), (1.0, 0.7777777777777778), (1.0, 0.7777777777777778), (1.0, 0.7777777777777778), (1.0, 0.7777777777777778), (1.0, 0.7777777777777778), (1.0, 0.7777777777777778), (1.0, 0.7777777777777778), (1.0, 0.7777777777777778), (1.0, 0.7777777777777778), (1.0, 0.7777777777777778), (1.0, 0.7777777777777778), (1.0, 0.7777777777777778), (1.0, 0.7777777777777778), (1.0, 0.7777777777777778), (1.0, 0.7777777777777778), (1.0, 0.7777777777777778), (1.0, 0.7777777777777778), (1.0, 0.7777777777777778), (1.0, 0.7777777777777778), (1.0, 0.7777777777777778), (1.0, 0.7777777777777778), (1.0, 0.7777777777777778), (1.0, 0.7777777777777778), (1.0, 0.7777777777777778), (1.0, 0.7777777777777778), (1.0, 0.7777777777777778), (1.0, 0.7777777777777778), (1.0, 0.7777777777777778), (1.0, 0.7777777777777778), (1.0, 0.7777777777777778), (1.0, 0.7777777777777778), (1.0, 0.7777777777777778), (1.0, 0.7777777777777778), (1.0, 0.7777777777777778), (1.0, 0.7777777777777778), (1.0, 0.7777777777777778), (1.0, 0.7777777777777778), (1.0, 0.7777777777777778), (1.0, 0.7777777777777778), (1.0, 0.7777777777777778), (1.0, 0.7777777777777778), (1.0, 0.7777777777777778), (1.0, 0.7777777777777778), (1.0, 0.7777777777777778), (1.0, 0.7777777777777778), (1.0, 0.7777777777777778), (1.0, 0.7777777777777778), (1.0, 0.7777777777777778), (1.0, 0.7777777777777778), (1.0, 0.7777777777777778), (1.0, 0.7777777777777778), (1.0, 0.7777777777777778), (1.0, 0.7777777777777778), (1.0, 0.7777777777777778)]\n"
     ]
    }
   ],
   "source": [
    "confusion_matrix = np.zeros((len(np.unique(y_test.values)), len(np.unique(y_test.values))))\n",
    "for i in range(len(y_test)):\n",
    "    confusion_matrix[y_test.values[i], y_pred[i]] += 1\n",
    "print(\"Confusion Matrix:\")\n",
    "print(confusion_matrix)\n",
    "\n",
    "precision = np.zeros(len(np.unique(y_test_values_reshaped)))\n",
    "recall = np.zeros(len(np.unique(y_test_values_reshaped)))\n",
    "f_score = np.zeros(len(np.unique(y_test_values_reshaped)))\n",
    "for i in range(len(np.unique(y_test_values_reshaped))):\n",
    "    true_positive = confusion_matrix[i, i]\n",
    "    false_positive = np.sum(confusion_matrix[:, i]) - true_positive\n",
    "    false_negative = np.sum(confusion_matrix[i, :]) - true_positive\n",
    "    precision[i] = true_positive / (true_positive + false_positive)\n",
    "    recall[i] = true_positive / (true_positive + false_negative)\n",
    "    f_score[i] = 2 * precision[i] * recall[i] / (precision[i] + recall[i])\n",
    "print(\"Precision:\", precision)\n",
    "print(\"Recall:\", recall)\n",
    "print(\"F-score:\", f_score)\n",
    "\n",
    "precision_recall_curve = []\n",
    "for threshold in np.linspace(0, 1, 100):\n",
    "    y_pred_thresh = y_pred >= threshold\n",
    "    true_positive = np.sum(y_pred_thresh[y_test_values_reshaped == 1])\n",
    "    false_positive = np.sum(y_pred_thresh[y_test_values_reshaped == 0])\n",
    "    false_negative = np.sum(~y_pred_thresh[y_test_values_reshaped == 1])\n",
    "    precision = true_positive / (true_positive + false_positive)\n",
    "    recall = true_positive / (true_positive + false_negative)\n",
    "    precision_recall_curve.append((precision, recall))\n",
    "print(\"Precision-Recall Curve Points:\", precision_recall_curve)\n",
    "\n",
    "\n"
   ]
  },
  {
   "cell_type": "code",
   "execution_count": 62,
   "id": "4ef8582e-3649-4b3d-8b93-2da4061d8733",
   "metadata": {
    "ExecuteTime": {
     "end_time": "2024-04-14T10:10:51.618070Z",
     "start_time": "2024-04-14T10:10:51.494938Z"
    }
   },
   "outputs": [
    {
     "data": {
      "image/png": "[encoded data removed]",
      "text/plain": [
       "<Figure size 800x600 with 2 Axes>"
      ]
     },
     "metadata": {},
     "output_type": "display_data"
    }
   ],
   "source": [
    "import matplotlib.pyplot as plt\n",
    "import seaborn as sns\n",
    "\n",
    "# Plot Confusion Matrix\n",
    "plt.figure(figsize=(8, 6))\n",
    "sns.heatmap(confusion_matrix, annot=True, cmap='Blues', fmt=\".0f\")\n",
    "plt.title('Confusion Matrix')\n",
    "plt.xlabel('Predicted Label')\n",
    "plt.ylabel('True Label')\n",
    "plt.show()\n"
   ]
  },
  {
   "cell_type": "code",
   "execution_count": 63,
   "id": "beef8755995095b5",
   "metadata": {
    "ExecuteTime": {
     "end_time": "2024-04-14T10:10:52.834212Z",
     "start_time": "2024-04-14T10:10:52.829574Z"
    }
   },
   "outputs": [
    {
     "name": "stdout",
     "output_type": "stream",
     "text": [
      "Average Precision: 0.9761904761904762\n",
      "Average Recall: 0.9390681003584229\n",
      "Average F-score: 0.9535326086956523\n"
     ]
    }
   ],
   "source": [
    "# Compute precision, recall, and F-score for each class\n",
    "precision_per_class = []\n",
    "recall_per_class = []\n",
    "fscore_per_class = []\n",
    "\n",
    "for class_label in np.unique(y_test_values_reshaped):\n",
    "    true_positives = np.sum((y_test_values_reshaped == class_label) & (y_pred == class_label))\n",
    "    false_positives = np.sum((y_test_values_reshaped != class_label) & (y_pred == class_label))\n",
    "    false_negatives = np.sum((y_test_values_reshaped == class_label) & (y_pred != class_label))\n",
    "    \n",
    "    precision = true_positives / (true_positives + false_positives) if (true_positives + false_positives) > 0 else 0\n",
    "    recall = true_positives / (true_positives + false_negatives) if (true_positives + false_negatives) > 0 else 0\n",
    "    fscore = 2 * precision * recall / (precision + recall) if (precision + recall) > 0 else 0\n",
    "    \n",
    "    precision_per_class.append(precision)\n",
    "    recall_per_class.append(recall)\n",
    "    fscore_per_class.append(fscore)\n",
    "\n",
    "# Compute average precision, recall, and F-score across all classes\n",
    "average_precision = np.mean(precision_per_class)\n",
    "average_recall = np.mean(recall_per_class)\n",
    "average_fscore = np.mean(fscore_per_class)\n",
    "\n",
    "print(f\"Average Precision: {average_precision}\")\n",
    "print(f\"Average Recall: {average_recall}\")\n",
    "print(f\"Average F-score: {average_fscore}\")"
   ]
  },
  {
   "cell_type": "code",
   "execution_count": null,
   "id": "f46e56a14e4011d6",
   "metadata": {},
   "outputs": [],
   "source": []
  }
 ],
 "metadata": {
  "kernelspec": {
   "display_name": "Python 3 (ipykernel)",
   "language": "python",
   "name": "python3"
  },
  "language_info": {
   "codemirror_mode": {
    "name": "ipython",
    "version": 3
   },
   "file_extension": ".py",
   "mimetype": "text/x-python",
   "name": "python",
   "nbconvert_exporter": "python",
   "pygments_lexer": "ipython3",
   "version": "3.10.13"
  }
 },
 "nbformat": 4,
 "nbformat_minor": 5
}
